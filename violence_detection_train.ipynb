{
 "cells": [
  {
   "cell_type": "code",
   "execution_count": 6,
   "id": "5d7dd882",
   "metadata": {},
   "outputs": [],
   "source": [
    "import os\n",
    "import json\n",
    "import numpy as np\n",
    "from PIL import Image\n",
    "from tensorflow.keras.layers import Input, Conv2D, MaxPooling2D, Flatten, Dense, Dropout\n",
    "from tensorflow.keras.models import Model\n",
    "from sklearn.model_selection import train_test_split\n",
    "from sklearn.preprocessing import LabelEncoder"
   ]
  },
  {
   "cell_type": "code",
   "execution_count": 7,
   "id": "787e3be4",
   "metadata": {},
   "outputs": [],
   "source": [
    "dataset_root = 'CSVD/rgb'\n",
    "action_categories = ['club','grapple','highfive','idle','kick','slap']  # add all your categories"
   ]
  },
  {
   "cell_type": "code",
   "execution_count": 11,
   "id": "a23b133c",
   "metadata": {},
   "outputs": [],
   "source": [
    "images = []\n",
    "labels = []"
   ]
  },
  {
   "cell_type": "code",
   "execution_count": 12,
   "id": "0f6171cd",
   "metadata": {},
   "outputs": [],
   "source": [
    "# Function to load dataset\n",
    "def load_dataset(root_path, categories):\n",
    "    for category in categories:\n",
    "        img_path = os.path.join(root_path, category, 'img')\n",
    "        ann_path = os.path.join(root_path, category, 'ann')\n",
    "        \n",
    "        for filename in os.listdir(img_path):\n",
    "            image_full_path = os.path.join(img_path, filename)\n",
    "            annotation_full_path = os.path.join(ann_path, f'{filename}.json')\n",
    "            \n",
    "            # Load and process image\n",
    "            with Image.open(image_full_path) as img:\n",
    "                img = img.resize((224, 224))  # Resize to 224x224 or another size suitable for your CNN\n",
    "                images.append(np.array(img))\n",
    "                \n",
    "            # Load and process annotation\n",
    "            with open(annotation_full_path, 'r') as ann_file:\n",
    "                ann_data = json.load(ann_file)\n",
    "                # Here, we're assuming there's one main action per image\n",
    "                # and we're using the first object's classTitle as the label\n",
    "                labels.append(ann_data['objects'][0]['classTitle'])\n",
    "    \n",
    "\n",
    "    return np.array(images), labels"
   ]
  },
  {
   "cell_type": "code",
   "execution_count": 13,
   "id": "95b9d66e",
   "metadata": {},
   "outputs": [],
   "source": [
    "images, labels = load_dataset(dataset_root, action_categories)\n",
    "label_encoder = LabelEncoder()\n",
    "labels_encoded = label_encoder.fit_transform(labels)    "
   ]
  },
  {
   "cell_type": "code",
   "execution_count": 14,
   "id": "1f3717d8",
   "metadata": {},
   "outputs": [],
   "source": [
    "images = images / 255.0"
   ]
  },
  {
   "cell_type": "code",
   "execution_count": 15,
   "id": "23e1a75a",
   "metadata": {},
   "outputs": [],
   "source": [
    "train_images, val_images, train_labels, val_labels = train_test_split(\n",
    "    images, labels_encoded, test_size=0.2, random_state=42\n",
    ")"
   ]
  },
  {
   "cell_type": "code",
   "execution_count": 16,
   "id": "11045ea1",
   "metadata": {},
   "outputs": [],
   "source": [
    "# Define CNN model\n",
    "def create_cnn_model(input_shape, num_classes):\n",
    "    input_layer = Input(shape=input_shape)\n",
    "    \n",
    "    # Create the CNN layers\n",
    "    x = Conv2D(32, (3, 3), activation='relu')(input_layer)\n",
    "    x = MaxPooling2D(pool_size=(2, 2))(x)\n",
    "    x = Conv2D(64, (3, 3), activation='relu')(x)\n",
    "    x = MaxPooling2D(pool_size=(2, 2))(x)\n",
    "    x = Flatten()(x)\n",
    "    x = Dense(128, activation='relu')(x)\n",
    "    x = Dropout(0.5)(x)\n",
    "    output_layer = Dense(num_classes, activation='softmax')(x)\n",
    "    \n",
    "    model = Model(inputs=input_layer, outputs=output_layer)\n",
    "    return model"
   ]
  },
  {
   "cell_type": "code",
   "execution_count": 17,
   "id": "fbca850a",
   "metadata": {},
   "outputs": [],
   "source": [
    "input_shape = train_images[0].shape  # This should match the input size used in the `load_dataset` function\n",
    "num_classes = len(np.unique(train_labels))\n",
    "model = create_cnn_model(input_shape, num_classes)"
   ]
  },
  {
   "cell_type": "code",
   "execution_count": 18,
   "id": "491d6202",
   "metadata": {},
   "outputs": [],
   "source": [
    "model.compile(optimizer='adam', loss='sparse_categorical_crossentropy', metrics=['accuracy'])\n"
   ]
  },
  {
   "cell_type": "code",
   "execution_count": 19,
   "id": "01d459b0",
   "metadata": {},
   "outputs": [
    {
     "name": "stdout",
     "output_type": "stream",
     "text": [
      "Epoch 1/10\n",
      "147/147 [==============================] - 55s 374ms/step - loss: 0.7429 - accuracy: 0.8153 - val_loss: 0.1762 - val_accuracy: 0.9761\n",
      "Epoch 2/10\n",
      "147/147 [==============================] - 50s 338ms/step - loss: 0.0877 - accuracy: 0.9787 - val_loss: 0.1083 - val_accuracy: 0.9804\n",
      "Epoch 3/10\n",
      "147/147 [==============================] - 51s 349ms/step - loss: 0.0572 - accuracy: 0.9878 - val_loss: 0.0774 - val_accuracy: 0.9829\n",
      "Epoch 4/10\n",
      "147/147 [==============================] - 50s 342ms/step - loss: 0.0294 - accuracy: 0.9925 - val_loss: 0.0508 - val_accuracy: 0.9881\n",
      "Epoch 5/10\n",
      "147/147 [==============================] - 51s 348ms/step - loss: 0.0195 - accuracy: 0.9955 - val_loss: 0.0434 - val_accuracy: 0.9846\n",
      "Epoch 6/10\n",
      "147/147 [==============================] - 50s 337ms/step - loss: 0.0189 - accuracy: 0.9936 - val_loss: 0.0555 - val_accuracy: 0.9898\n",
      "Epoch 7/10\n",
      "147/147 [==============================] - 53s 358ms/step - loss: 0.0155 - accuracy: 0.9964 - val_loss: 0.0477 - val_accuracy: 0.9923\n",
      "Epoch 8/10\n",
      "147/147 [==============================] - 50s 342ms/step - loss: 0.0155 - accuracy: 0.9955 - val_loss: 0.0562 - val_accuracy: 0.9898\n",
      "Epoch 9/10\n",
      "147/147 [==============================] - 49s 334ms/step - loss: 0.0111 - accuracy: 0.9970 - val_loss: 0.0418 - val_accuracy: 0.9940\n",
      "Epoch 10/10\n",
      "147/147 [==============================] - 49s 331ms/step - loss: 0.0137 - accuracy: 0.9972 - val_loss: 0.0414 - val_accuracy: 0.9966\n"
     ]
    }
   ],
   "source": [
    "# Train the model\n",
    "history = model.fit(train_images, train_labels, batch_size=32, epochs=10,\n",
    "                    validation_data=(val_images, val_labels))"
   ]
  },
  {
   "cell_type": "code",
   "execution_count": 23,
   "id": "f9d89f9b",
   "metadata": {},
   "outputs": [],
   "source": [
    "from tensorflow.keras.preprocessing.image import img_to_array\n",
    "\n",
    "# Function to preprocess a new image\n",
    "def preprocess_image(image_path, target_size=(224, 224)):\n",
    "    with Image.open(image_path) as img:\n",
    "        img = img.resize(target_size)  # Resize it to match the input size of the model\n",
    "        img = img_to_array(img)  # Convert the image to an array\n",
    "        img = np.expand_dims(img, axis=0)  # Add a batch dimension\n",
    "        img /= 255.0  # Normalize the image\n",
    "    return img\n"
   ]
  },
  {
   "cell_type": "code",
   "execution_count": 25,
   "id": "798983e4",
   "metadata": {},
   "outputs": [],
   "source": [
    "test_image_path = 'CSVD/rgb/club/img/club-0002-frame1336_lXYkyNjb6L.jpg'\n",
    "test_image = preprocess_image(test_image_path)"
   ]
  },
  {
   "cell_type": "code",
   "execution_count": 26,
   "id": "71801672",
   "metadata": {},
   "outputs": [
    {
     "name": "stdout",
     "output_type": "stream",
     "text": [
      "1/1 [==============================] - 0s 65ms/step\n"
     ]
    }
   ],
   "source": [
    "prediction = model.predict(test_image)"
   ]
  },
  {
   "cell_type": "code",
   "execution_count": 27,
   "id": "3babe99e",
   "metadata": {},
   "outputs": [],
   "source": [
    "predicted_class_index = np.argmax(prediction, axis=1)\n",
    "predicted_class = label_encoder.inverse_transform(predicted_class_index)  # Ensure label_encoder is the one used during training"
   ]
  },
  {
   "cell_type": "code",
   "execution_count": 29,
   "id": "8b7fd448",
   "metadata": {},
   "outputs": [
    {
     "data": {
      "text/plain": [
       "array(['club'], dtype='<U10')"
      ]
     },
     "execution_count": 29,
     "metadata": {},
     "output_type": "execute_result"
    }
   ],
   "source": [
    "predicted_class"
   ]
  },
  {
   "cell_type": "code",
   "execution_count": 30,
   "id": "7fc3a79c",
   "metadata": {},
   "outputs": [
    {
     "name": "stdout",
     "output_type": "stream",
     "text": [
      "INFO:tensorflow:Assets written to: CSVD/assets\n"
     ]
    },
    {
     "name": "stderr",
     "output_type": "stream",
     "text": [
      "INFO:tensorflow:Assets written to: CSVD/assets\n"
     ]
    }
   ],
   "source": [
    "model.save('CSVD')"
   ]
  },
  {
   "cell_type": "code",
   "execution_count": 32,
   "id": "7445999d",
   "metadata": {},
   "outputs": [
    {
     "name": "stderr",
     "output_type": "stream",
     "text": [
      "/Users/asadullah/anaconda3/lib/python3.10/site-packages/keras/src/engine/training.py:3103: UserWarning: You are saving your model as an HDF5 file via `model.save()`. This file format is considered legacy. We recommend using instead the native Keras format, e.g. `model.save('my_model.keras')`.\n",
      "  saving_api.save_model(\n"
     ]
    }
   ],
   "source": [
    "model.save('CSVD/your_model.h5')"
   ]
  },
  {
   "cell_type": "code",
   "execution_count": 7,
   "id": "110c0538",
   "metadata": {},
   "outputs": [
    {
     "data": {
      "text/plain": [
       "array(['0-idle', '1-walk', '4-highfive', '6-pose', '7-slap', '9-grapple',\n",
       "       'club', 'kick', 'pose'], dtype='<U10')"
      ]
     },
     "execution_count": 7,
     "metadata": {},
     "output_type": "execute_result"
    }
   ],
   "source": [
    "label_encoder."
   ]
  },
  {
   "cell_type": "code",
   "execution_count": 7,
   "id": "a7b4cb7b",
   "metadata": {},
   "outputs": [
    {
     "name": "stdout",
     "output_type": "stream",
     "text": [
      "Index: 0, Label: 0-idle\n",
      "Index: 1, Label: 1-walk\n",
      "Index: 2, Label: 4-highfive\n",
      "Index: 3, Label: 6-pose\n",
      "Index: 4, Label: 7-slap\n",
      "Index: 5, Label: 9-grapple\n",
      "Index: 6, Label: club\n",
      "Index: 7, Label: kick\n",
      "Index: 8, Label: pose\n"
     ]
    }
   ],
   "source": [
    "for index, label in enumerate(label_encoder.classes_):\n",
    "    print(f\"Index: {index}, Label: {label}\")"
   ]
  },
  {
   "cell_type": "code",
   "execution_count": 20,
   "id": "4e6e8420",
   "metadata": {},
   "outputs": [
    {
     "data": {
      "text/plain": [
       "['idle', 'walk', 'highfive', 'pose', 'slap', 'grapple', 'club', 'kick', 'pose']"
      ]
     },
     "execution_count": 20,
     "metadata": {},
     "output_type": "execute_result"
    }
   ],
   "source": [
    "['idle','walk','highfive','pose','slap','grapple','club','kick','pose']"
   ]
  },
  {
   "cell_type": "code",
   "execution_count": 22,
   "id": "9c9b7bb3",
   "metadata": {},
   "outputs": [],
   "source": [
    "# Function to save the model to a file\n",
    "def save_model(model, model_path):\n",
    "    with open(model_path, 'wb') as file:\n",
    "        pickle.dump(model, file)"
   ]
  },
  {
   "cell_type": "code",
   "execution_count": 24,
   "id": "d2dacaf3",
   "metadata": {},
   "outputs": [],
   "source": [
    "import pickle\n",
    "# After training the classifier, save it to a file\n",
    "model_path = 'kashaf_model.pkl'  # Define your model save path\n",
    "save_model(model, model_path)"
   ]
  },
  {
   "cell_type": "code",
   "execution_count": null,
   "id": "cb2e2175",
   "metadata": {},
   "outputs": [],
   "source": []
  }
 ],
 "metadata": {
  "kernelspec": {
   "display_name": "Python 3 (ipykernel)",
   "language": "python",
   "name": "python3"
  },
  "language_info": {
   "codemirror_mode": {
    "name": "ipython",
    "version": 3
   },
   "file_extension": ".py",
   "mimetype": "text/x-python",
   "name": "python",
   "nbconvert_exporter": "python",
   "pygments_lexer": "ipython3",
   "version": "3.10.13"
  }
 },
 "nbformat": 4,
 "nbformat_minor": 5
}
